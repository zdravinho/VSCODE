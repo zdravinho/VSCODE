x=5
print(x)
y=6
print(y)
# eso eso